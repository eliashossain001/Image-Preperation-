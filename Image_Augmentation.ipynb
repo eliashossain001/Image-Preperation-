{
  "nbformat": 4,
  "nbformat_minor": 0,
  "metadata": {
    "colab": {
      "name": "Image_Augmentation.ipynb",
      "provenance": [],
      "authorship_tag": "ABX9TyMKWEsLUSSdHafzOJA7yIAK",
      "include_colab_link": true
    },
    "kernelspec": {
      "name": "python3",
      "display_name": "Python 3"
    }
  },
  "cells": [
    {
      "cell_type": "markdown",
      "metadata": {
        "id": "view-in-github",
        "colab_type": "text"
      },
      "source": [
        "<a href=\"https://colab.research.google.com/github/eliashossain001/Image-Preperation-/blob/main/Image_Augmentation.ipynb\" target=\"_parent\"><img src=\"https://colab.research.google.com/assets/colab-badge.svg\" alt=\"Open In Colab\"/></a>"
      ]
    },
    {
      "cell_type": "markdown",
      "metadata": {
        "id": "mDCYXXq1bAhe"
      },
      "source": [
        "**Mount drive**"
      ]
    },
    {
      "cell_type": "code",
      "metadata": {
        "colab": {
          "base_uri": "https://localhost:8080/"
        },
        "id": "GGIuVLNdbCsd",
        "outputId": "c3a53cec-4b2b-4f17-ee04-9fa10f8cf379"
      },
      "source": [
        "from google.colab import drive\r\n",
        "drive.mount('/content/drive')"
      ],
      "execution_count": 2,
      "outputs": [
        {
          "output_type": "stream",
          "text": [
            "Mounted at /content/drive\n"
          ],
          "name": "stdout"
        }
      ]
    },
    {
      "cell_type": "code",
      "metadata": {
        "id": "7MKGWDM0SSzd"
      },
      "source": [
        "from google.colab import drive\n",
        "drive.mount('/content/drive')"
      ],
      "execution_count": null,
      "outputs": []
    },
    {
      "cell_type": "code",
      "metadata": {
        "colab": {
          "base_uri": "https://localhost:8080/"
        },
        "id": "PqV5Hq2Kd8g5",
        "outputId": "7b877dfa-ce39-4e78-d8c7-2c476c6b1e58"
      },
      "source": [
        "pip install sk"
      ],
      "execution_count": 8,
      "outputs": [
        {
          "output_type": "stream",
          "text": [
            "Collecting sk\n",
            "  Downloading https://files.pythonhosted.org/packages/7a/82/f13977ecd1f31e3e366b9fee28a909fb47367e03047c3b2a2aa6b9a2ce74/sk-0.0.1.tar.gz\n",
            "Building wheels for collected packages: sk\n",
            "  Building wheel for sk (setup.py) ... \u001b[?25l\u001b[?25hdone\n",
            "  Created wheel for sk: filename=sk-0.0.1-cp36-none-any.whl size=1884 sha256=c1fda8a38fc23b04cfbb2a23d1af0c5311cd0440e72df62dbb4d0eb830b621c9\n",
            "  Stored in directory: /root/.cache/pip/wheels/03/8b/c2/f0f06fa931b5bdf839fb1b90e650002203b3e7237808c6bd21\n",
            "Successfully built sk\n",
            "Installing collected packages: sk\n",
            "Successfully installed sk-0.0.1\n"
          ],
          "name": "stdout"
        }
      ]
    },
    {
      "cell_type": "markdown",
      "metadata": {
        "id": "vS6tGfu4hakB"
      },
      "source": [
        "**Step 1 — Image transformations**"
      ]
    },
    {
      "cell_type": "code",
      "metadata": {
        "id": "PY9hGec3tmI0"
      },
      "source": [
        "import random\r\n",
        "from scipy import ndarray\r\n",
        "import skimage as sk\r\n",
        "from skimage import transform\r\n",
        "from skimage import util\r\n",
        "\r\n",
        "def random_rotation(image_array: ndarray):\r\n",
        "    # pick a random degree of rotation between 25% on the left and 25% on the right\r\n",
        "    random_degree = random.uniform(-25, 25)\r\n",
        "    return sk.transform.rotate(image_array, random_degree)\r\n",
        "\r\n",
        "def random_noise(image_array: ndarray):\r\n",
        "    # add random noise to the image\r\n",
        "    return sk.util.random_noise(image_array)\r\n",
        "\r\n",
        "def horizontal_flip(image_array: ndarray):\r\n",
        "    # horizontal flip doesn't need skimage, it's easy as flipping the image array of pixels !\r\n",
        "    return image_array[:, ::-1]"
      ],
      "execution_count": 4,
      "outputs": []
    },
    {
      "cell_type": "markdown",
      "metadata": {
        "id": "K4Uo_JgXttaX"
      },
      "source": [
        "**Step 2 — List all the files in a folder and read them**"
      ]
    },
    {
      "cell_type": "code",
      "metadata": {
        "id": "N1KbFj_HuLKU"
      },
      "source": [
        "import random\r\n",
        "from scipy import ndarray\r\n",
        "import skimage as sk\r\n",
        "from skimage import transform\r\n",
        "from skimage import util\r\n",
        "import os\r\n",
        "from skimage import io\r\n",
        "\r\n",
        "\r\n",
        "# our folder path containing some images\r\n",
        "folder_path = '/content/drive/MyDrive/covid/TestAug'\r\n",
        "# the number of file to generate\r\n",
        "num_files_desired = 700\r\n",
        "\r\n",
        "# loop on all files of the folder and build a list of files paths\r\n",
        "images = [os.path.join(folder_path, f) for f in os.listdir(folder_path) if os.path.isfile(os.path.join(folder_path, f))]\r\n",
        "\r\n",
        "num_generated_files = 0\r\n",
        "while num_generated_files <= num_files_desired:\r\n",
        "    # random image from the folder\r\n",
        "    image_path = random.choice(images)\r\n",
        "    # read image as an two dimensional array of pixels\r\n",
        "    image_to_transform = sk.io.imread(image_path)"
      ],
      "execution_count": null,
      "outputs": []
    },
    {
      "cell_type": "markdown",
      "metadata": {
        "id": "di5prptqt1-I"
      },
      "source": [
        "**Step 3 — Images transformation**"
      ]
    },
    {
      "cell_type": "code",
      "metadata": {
        "id": "chGJNtvtt3a8"
      },
      "source": [
        "# dictionary of the transformations functions we defined earlier\r\n",
        "available_transformations = {\r\n",
        "    'rotate': random_rotation,\r\n",
        "    'noise': random_noise,\r\n",
        "    'horizontal_flip': horizontal_flip\r\n",
        "}\r\n",
        "\r\n",
        "# random num of transformations to apply\r\n",
        "num_transformations_to_apply = random.randint(1, len(available_transformations))\r\n",
        "\r\n",
        "num_transformations = 0\r\n",
        "transformed_image = None\r\n",
        "while num_transformations <= num_transformations_to_apply:\r\n",
        "    # choose a random transformation to apply for a single image\r\n",
        "    key = random.choice(list(available_transformations))\r\n",
        "    transformed_image = available_transformations[key](image_to_transform)\r\n",
        "    num_transformations += 1"
      ],
      "execution_count": 18,
      "outputs": []
    },
    {
      "cell_type": "markdown",
      "metadata": {
        "id": "niUPvX84t_-G"
      },
      "source": [
        "**Step 4 — Save the new images**"
      ]
    },
    {
      "cell_type": "code",
      "metadata": {
        "id": "OQJe_hObt9yM"
      },
      "source": [
        "# define a name for our new file\r\n",
        "new_file_path = '%s/augmented_image_%s.jpg' % (folder_path, num_generated_files)\r\n",
        "\r\n",
        "# write image to the disk\r\n",
        "sk.io.imsave(new_file_path, transformed_image)"
      ],
      "execution_count": 19,
      "outputs": []
    }
  ]
}